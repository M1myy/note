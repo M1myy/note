{
 "cells": [
  {
   "cell_type": "markdown",
   "metadata": {},
   "source": [
    "![title](truveris_logo.png) \n",
    "![title](data_incubator.png)"
   ]
  },
  {
   "cell_type": "markdown",
   "metadata": {},
   "source": [
    "\n",
    "**Holt-Winters single exponential smoothing. No trend or seasonality.** \n",
    "\n",
    "$$s_{i} = \\alpha x_{i} + (1-\\alpha)s_{i-1} \\textrm{, with }0\\leq \\alpha \\leq 1$$\n",
    "\n",
    "- $x_{i}$ is the actual value at time $i$.\n",
    "- $\\alpha$ is the mixing parameter. How much new vs. old information is used. \n",
    "- $s_{i}$ is the smoothed value at time i.\n",
    "- $s_{i} = \\alpha\\sum_{j=0}^{i} (1-\\alpha)^{j}x_{i-j}$\n",
    "\n",
    "To forecast beyond the last data point: $x_{i+h} = s_{i}$\n",
    "\n",
    "**Holt-Winters double exponential smoothing. With trend.**\n",
    "\n",
    "$$s_{i} = \\alpha x_{i} + (1-\\alpha)(s_{i-1} + t_{i-1})$$\n",
    "$$t_{i} = \\beta (s_{i} - s_{i-1}) + (1-\\beta)t_{i-1}$$\n",
    "\n",
    "- $t_{i}$ is the trend at time $i$. It is the difference between subsequent values in the series. \n",
    "- $\\beta$ is a mixing parameter for the trend. How much new vs. old trend information to include.\n",
    "\n",
    "To forecast beyond the last data point: $x_{i+h} = s_{i} + h t_{i}$\n",
    "\n",
    "**Holt-Winters triple exponential smoothing. With trend and seasonality.**\n",
    "\n",
    "$$s_{i} = \\alpha (x_{i} - p_{i-k}) + (1-\\alpha)(s_{i-1}+t_{i-1})$$\n",
    "$$t_{i} = \\beta (s_{i} - s_{i-1}) + (1-\\beta)t_{i-1}$$\n",
    "$$p_{i} = \\gamma (x_{i} - s_{i}) + (1-\\gamma)p_{i-k}$$\n",
    "\n",
    "- $k$ is the length of the period. \n",
    "- $\\gamma$ is a mixing parameter for the seasonality. \n",
    "- $s_{i}$ and $t_{i}$ are to be thought of as 'doubly-smoothed' values, without taking seasonality into account. \n",
    "- $p_{i}$ is the seasonal part. \n",
    "\n",
    "To forecast beyond the last data point: $x_{i+h} = s_{i} + h t_{i} + p_{i+h-k}$\n",
    "\n",
    "**Python implementation of Holt-Winters.**\n",
    "\n",
    "<div align=\"center\">\n",
    "<a href=\"http://gist.github.com/andrequeiroz/5888967\">http://gist.github.com/andrequeiroz/5888967</a>\n",
    "</div>\n",
    "\n",
    "- Double exponential smoothing:\n",
    "**linear(x, fc, alpha=None, beta=None)**\n",
    "\n",
    "- Triple exponential smoothing additive:\n",
    "**additive(x, m, fc, alpha=None, beta=None, gamma=None)**\n",
    "\n",
    "- Triple exponential smoothing multiplicative:\n",
    "**multiplicative(x, m, fc, alpha=None, beta=None, gamma=None)**"
   ]
  },
  {
   "cell_type": "code",
   "execution_count": 1,
   "metadata": {},
   "outputs": [
    {
     "ename": "ModuleNotFoundError",
     "evalue": "No module named 'sklearn'",
     "output_type": "error",
     "traceback": [
      "\u001b[0;31m---------------------------------------------------------------------------\u001b[0m",
      "\u001b[0;31mModuleNotFoundError\u001b[0m                       Traceback (most recent call last)",
      "\u001b[0;32m<ipython-input-1-d475685151aa>\u001b[0m in \u001b[0;36m<module>\u001b[0;34m()\u001b[0m\n\u001b[1;32m      8\u001b[0m \u001b[0;32mimport\u001b[0m \u001b[0mholtwinters\u001b[0m \u001b[0;32mas\u001b[0m \u001b[0mhw\u001b[0m\u001b[0;34m\u001b[0m\u001b[0m\n\u001b[1;32m      9\u001b[0m \u001b[0;32mfrom\u001b[0m \u001b[0mmath\u001b[0m \u001b[0;32mimport\u001b[0m \u001b[0msqrt\u001b[0m\u001b[0;34m\u001b[0m\u001b[0m\n\u001b[0;32m---> 10\u001b[0;31m \u001b[0;32mfrom\u001b[0m \u001b[0msklearn\u001b[0m \u001b[0;32mimport\u001b[0m \u001b[0mlinear_model\u001b[0m\u001b[0;34m\u001b[0m\u001b[0m\n\u001b[0m\u001b[1;32m     11\u001b[0m \u001b[0;32mimport\u001b[0m \u001b[0mnumpy\u001b[0m \u001b[0;32mas\u001b[0m \u001b[0mnp\u001b[0m\u001b[0;34m\u001b[0m\u001b[0m\n\u001b[1;32m     12\u001b[0m \u001b[0;32mfrom\u001b[0m \u001b[0moperator\u001b[0m \u001b[0;32mimport\u001b[0m \u001b[0madd\u001b[0m\u001b[0;34m\u001b[0m\u001b[0m\n",
      "\u001b[0;31mModuleNotFoundError\u001b[0m: No module named 'sklearn'"
     ]
    }
   ],
   "source": [
    "import csv\n",
    "import pandas as pd\n",
    "import matplotlib\n",
    "import matplotlib.pyplot as plt\n",
    "%matplotlib inline\n",
    "matplotlib.style.use('ggplot')\n",
    "from datetime import datetime as dt\n",
    "import holtwinters as hw\n",
    "from math import sqrt\n",
    "from sklearn import linear_model\n",
    "import numpy as np\n",
    "from operator import add\n",
    "import sklearn "
   ]
  },
  {
   "cell_type": "markdown",
   "metadata": {},
   "source": [
    "EXAMPLE 1:\n",
    "\n",
    "Forecasting the percent of uninsured people in the nation using Holt-Winters double exponential smoothing. "
   ]
  },
  {
   "cell_type": "code",
   "execution_count": null,
   "metadata": {
    "collapsed": true
   },
   "outputs": [],
   "source": [
    "# Import the quarterly uninsured data into a dataframe. \n",
    "with open('uninsured_time_series.csv', 'rU') as f:\n",
    "    reader = csv.reader(f)\n",
    "    col_names = reader.next()\n",
    "    rows = [(dt.strptime(row[0], '%y-%b'), float(row[1])) for row in reader]\n",
    "\n",
    "unins_df = pd.DataFrame(rows, columns=col_names)\n",
    "raw_ls = list(unins_df['uninsured_proportion'])"
   ]
  },
  {
   "cell_type": "code",
   "execution_count": null,
   "metadata": {},
   "outputs": [],
   "source": [
    "# Optimized parameters. \n",
    "hw_fc, alpha, beta, rmse = hw.linear(raw_ls, 3)\n",
    "\n",
    "print alpha, beta\n",
    "print rmse, rmse/np.mean(raw_ls)\n",
    "\n",
    "plt.plot(raw_ls, color='red', marker='o', markersize=4)\n",
    "plt.plot([None]*(len(raw_ls)-1) + [raw_ls[-1]] +hw_fc, color='blue', marker='o', alpha=.4)"
   ]
  },
  {
   "cell_type": "code",
   "execution_count": null,
   "metadata": {},
   "outputs": [],
   "source": [
    "# Tuning parameters by hand. \n",
    "a, b = (.8, .85)\n",
    "hw_fc, alpha, beta, rmse = hw.linear(raw_ls, 3, a, b)\n",
    "\n",
    "print alpha, beta\n",
    "print rmse, rmse/np.mean(raw_ls)\n",
    "\n",
    "plt.plot(raw_ls, color='red', marker='o', markersize=4)\n",
    "plt.plot([None]*(len(raw_ls)-1) + [raw_ls[-1]] + hw_fc, color='blue', marker='o', alpha=.4)"
   ]
  },
  {
   "cell_type": "markdown",
   "metadata": {},
   "source": [
    "EXAMPLE 2:\n",
    "\n",
    "Forecasting the national average cost of a brand drug using Holt-Winters triple exponential smoothing. "
   ]
  },
  {
   "cell_type": "code",
   "execution_count": null,
   "metadata": {},
   "outputs": [],
   "source": [
    "# Import data. \n",
    "with open('monthly_ndi_official.csv', 'rb') as f:\n",
    "    reader= csv.reader(f)\n",
    "    col_names = reader.next()\n",
    "    rows = [[dt.strptime(row[0], '%m/%d/%y')] + map(float, row[1:]) for row in reader]\n",
    "\n",
    "ndi_df = pd.DataFrame(rows, columns = col_names)"
   ]
  },
  {
   "cell_type": "code",
   "execution_count": null,
   "metadata": {},
   "outputs": [],
   "source": [
    "ts_df = ndi_df[['date', 'brand']].copy()\n",
    "ts_df.plot()"
   ]
  },
  {
   "cell_type": "code",
   "execution_count": null,
   "metadata": {},
   "outputs": [],
   "source": [
    "ts_df['index'] = ts_df['brand']/ts_df.loc[0, 'brand']\n",
    "ts_df['log_index'] = np.log(ts_df['index'])\n",
    "\n",
    "X_train = [[x] for x in ts_df.index]\n",
    "y_train = ts_df['log_index']\n",
    "\n",
    "regr = linear_model.LinearRegression()\n",
    "regr.fit(X_train, y_train)\n",
    "\n",
    "m = regr.coef_[0]\n",
    "b = regr.intercept_\n",
    "\n",
    "print m, b, regr.score(X_train, y_train)\n",
    "\n",
    "plt.scatter(X_train, y_train)\n",
    "plt.plot(X_train, y_train)\n",
    "plt.plot(X_train, regr.predict(X_train), color='blue', linewidth=2)"
   ]
  },
  {
   "cell_type": "code",
   "execution_count": null,
   "metadata": {},
   "outputs": [],
   "source": [
    "ts_df['index_log_model'] = regr.predict(X_train)\n",
    "ts_df['index_log_resid'] = ts_df['log_index'] - ts_df['index_log_model']\n",
    "\n",
    "temp_df = ts_df.copy()\n",
    "temp_df.index = temp_df['date']\n",
    "temp_df['index_log_resid'].plot()\n",
    "\n",
    "resids = temp_df['index_log_resid']"
   ]
  },
  {
   "cell_type": "code",
   "execution_count": null,
   "metadata": {},
   "outputs": [],
   "source": [
    "overlap = 12\n",
    "hw_forecast = hw.additive(list(resids[:-1*overlap]), 12, 12+overlap)\n",
    "\n",
    "print \"alpha is %s, beta is %s, gamma is %s.\" %hw_forecast[1:4]\n",
    "print \"rmse is %s.\" %hw_forecast[4]\n",
    "\n",
    "temp_ls = list(resids[:-1*overlap]) + hw_forecast[0]\n",
    "\n",
    "plt.plot(list(resids[:]))\n",
    "plt.plot(temp_ls, '--')"
   ]
  },
  {
   "cell_type": "code",
   "execution_count": null,
   "metadata": {},
   "outputs": [],
   "source": [
    "line_ls = [m*x+b for x in range(len(temp_ls))]\n",
    "new_log_model_ls = [x for x in map(add, line_ls, temp_ls)]\n",
    "fc_ls = ts_df.loc[0, 'brand']*np.exp(new_log_model_ls)\n",
    "plt.plot(ts_df['brand'])\n",
    "plt.plot(fc_ls, '--')"
   ]
  },
  {
   "cell_type": "code",
   "execution_count": null,
   "metadata": {},
   "outputs": [],
   "source": [
    "rmse = sklearn.metrics.mean_squared_error(ts_df.loc[24:36, 'brand'], fc_ls[24:36])**0.5\n",
    "print rmse, rmse/340."
   ]
  },
  {
   "cell_type": "code",
   "execution_count": null,
   "metadata": {
    "collapsed": true
   },
   "outputs": [],
   "source": []
  }
 ],
 "metadata": {
  "kernelspec": {
   "display_name": "Python 3",
   "language": "python",
   "name": "python3"
  },
  "language_info": {
   "codemirror_mode": {
    "name": "ipython",
    "version": 3
   },
   "file_extension": ".py",
   "mimetype": "text/x-python",
   "name": "python",
   "nbconvert_exporter": "python",
   "pygments_lexer": "ipython3",
   "version": "3.6.1"
  }
 },
 "nbformat": 4,
 "nbformat_minor": 1
}
